{
 "cells": [
  {
   "cell_type": "code",
   "execution_count": 1,
   "metadata": {},
   "outputs": [],
   "source": [
    "# Dependencies\n",
    "from bs4 import BeautifulSoup as bs\n",
    "import requests as req\n",
    "from splinter import Browser\n",
    "from splinter.exceptions import ElementDoesNotExist\n",
    "import pandas as pd\n",
    "from re import search\n",
    "from flask import Flask, jsonify, redirect, render_template\n",
    "import json"
   ]
  },
  {
   "cell_type": "code",
   "execution_count": 2,
   "metadata": {},
   "outputs": [],
   "source": [
    "# If you get an error below with the 'browser' line, you many need to update your chromedriver.exe. Update link below,\n",
    "# make sure it matches the same version of chrome you currently have installed. "
   ]
  },
  {
   "cell_type": "code",
   "execution_count": 3,
   "metadata": {},
   "outputs": [],
   "source": [
    "executable_path = {'executable_path': 'C:\\Program Files (x86)\\Google\\Chrome\\Application\\chromedriver.exe'}\n",
    "browser = Browser(\"chrome\", **executable_path, headless=False)"
   ]
  },
  {
   "cell_type": "code",
   "execution_count": 4,
   "metadata": {},
   "outputs": [
    {
     "name": "stderr",
     "output_type": "stream",
     "text": [
      "C:\\ProgramData\\Anaconda3\\lib\\site-packages\\splinter\\driver\\webdriver\\__init__.py:528: FutureWarning: browser.find_link_by_partial_text is deprecated. Use browser.links.find_by_partial_text instead.\n",
      "  FutureWarning,\n"
     ]
    }
   ],
   "source": [
    "url = \"https://www.homedepot.com/b/Appliances/N-5yc1vZbv1w\"\n",
    "browser.visit(url)\n",
    "browser.click_link_by_partial_text('Refrigerators')\n",
    "refrigerator_main_page = browser.url\n",
    "# Not sure how to get a list of the 'Types'"
   ]
  },
  {
   "cell_type": "code",
   "execution_count": 5,
   "metadata": {},
   "outputs": [],
   "source": [
    "browser.click_link_by_partial_text('French Door Refrigerators')\n",
    "french_doors = browser.url"
   ]
  },
  {
   "cell_type": "code",
   "execution_count": 6,
   "metadata": {},
   "outputs": [],
   "source": [
    "lists = browser.html\n",
    "y = lists.split('mainEntity')\n",
    "list1 = y[1].split('@type\":\"Product')"
   ]
  },
  {
   "cell_type": "code",
   "execution_count": 7,
   "metadata": {},
   "outputs": [
    {
     "data": {
      "text/plain": [
       "25"
      ]
     },
     "execution_count": 7,
     "metadata": {},
     "output_type": "execute_result"
    }
   ],
   "source": [
    "len(list1)"
   ]
  },
  {
   "cell_type": "code",
   "execution_count": null,
   "metadata": {},
   "outputs": [],
   "source": []
  },
  {
   "cell_type": "code",
   "execution_count": 8,
   "metadata": {},
   "outputs": [],
   "source": [
    "ratings = []\n",
    "for i in range(0,len(list1)):\n",
    "    newsss = list1[i].split('\\n')\n",
    "    for i in newsss:\n",
    "        i.strip()\n",
    "        if \"ratingValue\" in i:\n",
    "            strip_string = (i.strip().replace(\"'\",\"\").replace(\"\\\"\",\"\"))\n",
    "            if len(strip_string) < 25:\n",
    "                ratings.append(strip_string[:-1])"
   ]
  },
  {
   "cell_type": "code",
   "execution_count": 9,
   "metadata": {},
   "outputs": [],
   "source": [
    "review_count = []\n",
    "for i in range(0,len(list1)):\n",
    "    newsss = list1[i].split('\\n')\n",
    "    for i in newsss:\n",
    "        i.strip()\n",
    "        if \"reviewCount\" in i:\n",
    "            strip_string = (i.strip().replace(\"'\",\"\").replace(\"\\\"\",\"\"))\n",
    "            if len(strip_string) < 20:\n",
    "                review_count.append(strip_string[:-1])"
   ]
  },
  {
   "cell_type": "code",
   "execution_count": 10,
   "metadata": {},
   "outputs": [],
   "source": [
    "bestRating = []\n",
    "for i in range(0,len(list1)):\n",
    "    newsss = list1[i].split('\\n')\n",
    "    for i in newsss:\n",
    "        i.strip()\n",
    "        if \"bestRating\" in i:\n",
    "            strip_string = (i.strip().replace(\"'\",\"\").replace(\"\\\"\",\"\"))\n",
    "            if len(strip_string) < 15:\n",
    "                bestRating.append(strip_string[:-1])"
   ]
  },
  {
   "cell_type": "code",
   "execution_count": 11,
   "metadata": {},
   "outputs": [],
   "source": [
    "worstRating = []\n",
    "for i in range(0,len(list1)):\n",
    "    newsss = list1[i].split('\\n')\n",
    "    for i in newsss:\n",
    "        i.strip()\n",
    "        if \"worstRating\" in i:\n",
    "            strip_string = (i.strip().replace(\"'\",\"\").replace(\"\\\"\",\"\"))\n",
    "            if len(strip_string) < 15:\n",
    "                worstRating.append(strip_string)"
   ]
  },
  {
   "cell_type": "code",
   "execution_count": 12,
   "metadata": {},
   "outputs": [],
   "source": [
    "sku = []\n",
    "for i in range(0,len(list1)):\n",
    "    newsss = list1[i].split('\\n')\n",
    "    for i in newsss:\n",
    "        i.strip()\n",
    "        if \"sku\" in i:\n",
    "            strip_string = (i.strip().replace(\"'\",\"\").replace(\"\\\"\",\"\"))\n",
    "            if len(strip_string) < 20:\n",
    "                sku.append(strip_string[:-1])"
   ]
  },
  {
   "cell_type": "code",
   "execution_count": 13,
   "metadata": {},
   "outputs": [],
   "source": [
    "brand = []\n",
    "for i in range(0,len(list1)):\n",
    "    newsss = list1[i].split('\\n')\n",
    "    for i in newsss:\n",
    "        i.strip()\n",
    "        if \"brand\" in i:\n",
    "            strip_string = (i.strip().replace(\"'\",\"\").replace(\"\\\"\",\"\"))\n",
    "            if len(strip_string) < 30:\n",
    "                brand.append(strip_string)"
   ]
  },
  {
   "cell_type": "code",
   "execution_count": 16,
   "metadata": {},
   "outputs": [],
   "source": [
    "price = []\n",
    "for i in range(0,len(list1)):\n",
    "    newsss = list1[i].split('\\n')\n",
    "    for i in newsss:\n",
    "        i.strip()\n",
    "        if \"price\" in i:\n",
    "            strip_string = (i.strip().replace(\"'\",\"\").replace(\"\\\"\",\"\"))\n",
    "            if len(strip_string) < 15:\n",
    "                price.append(strip_string[:-1])"
   ]
  },
  {
   "cell_type": "code",
   "execution_count": null,
   "metadata": {},
   "outputs": [],
   "source": []
  },
  {
   "cell_type": "code",
   "execution_count": null,
   "metadata": {},
   "outputs": [],
   "source": []
  }
 ],
 "metadata": {
  "kernelspec": {
   "display_name": "Python 3",
   "language": "python",
   "name": "python3"
  },
  "language_info": {
   "codemirror_mode": {
    "name": "ipython",
    "version": 3
   },
   "file_extension": ".py",
   "mimetype": "text/x-python",
   "name": "python",
   "nbconvert_exporter": "python",
   "pygments_lexer": "ipython3",
   "version": "3.7.4"
  }
 },
 "nbformat": 4,
 "nbformat_minor": 2
}
