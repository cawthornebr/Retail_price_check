{
 "cells": [
  {
   "cell_type": "code",
   "execution_count": 1,
   "metadata": {},
   "outputs": [],
   "source": [
    "# Dependencies\n",
    "from bs4 import BeautifulSoup as bs\n",
    "import requests as req\n",
    "from splinter import Browser\n",
    "from splinter.exceptions import ElementDoesNotExist\n",
    "import pandas as pd\n",
    "from re import search\n",
    "from flask import Flask, jsonify, redirect, render_template\n",
    "import json"
   ]
  },
  {
   "cell_type": "code",
   "execution_count": 2,
   "metadata": {},
   "outputs": [],
   "source": [
    "# If you get an error below with the 'browser' line, you many need to update your chromedriver.exe. Update link below,\n",
    "# make sure it matches the same version of chrome you currently have installed. "
   ]
  },
  {
   "cell_type": "code",
   "execution_count": 3,
   "metadata": {},
   "outputs": [],
   "source": [
    "executable_path = {'executable_path': 'C:\\Program Files (x86)\\Google\\Chrome\\Application\\chromedriver.exe'}\n",
    "browser = Browser(\"chrome\", **executable_path, headless=False)"
   ]
  },
  {
   "cell_type": "code",
   "execution_count": 4,
   "metadata": {},
   "outputs": [
    {
     "name": "stderr",
     "output_type": "stream",
     "text": [
      "C:\\ProgramData\\Anaconda3\\lib\\site-packages\\splinter\\driver\\webdriver\\__init__.py:528: FutureWarning: browser.find_link_by_partial_text is deprecated. Use browser.links.find_by_partial_text instead.\n",
      "  FutureWarning,\n"
     ]
    }
   ],
   "source": [
    "url = \"https://www.homedepot.com/b/Appliances/N-5yc1vZbv1w\"\n",
    "browser.visit(url)\n",
    "browser.click_link_by_partial_text('Refrigerators')\n",
    "refrigerator_main_page = browser.url\n",
    "# Not sure how to get a list of the 'Types'"
   ]
  },
  {
   "cell_type": "code",
   "execution_count": 5,
   "metadata": {},
   "outputs": [],
   "source": [
    "browser.click_link_by_partial_text('French Door Refrigerators')\n",
    "french_doors = browser.url"
   ]
  },
  {
   "cell_type": "code",
   "execution_count": 6,
   "metadata": {},
   "outputs": [],
   "source": [
    "lists = browser.html\n",
    "y = lists.split('mainEntity')\n",
    "list1 = y[1].split('@type\":\"Product')\n",
    "# ratings = []\n",
    "# for i in list1:\n",
    "    "
   ]
  },
  {
   "cell_type": "code",
   "execution_count": 7,
   "metadata": {},
   "outputs": [
    {
     "data": {
      "text/plain": [
       "25"
      ]
     },
     "execution_count": 7,
     "metadata": {},
     "output_type": "execute_result"
    }
   ],
   "source": [
    "len(list1)"
   ]
  },
  {
   "cell_type": "code",
   "execution_count": 8,
   "metadata": {},
   "outputs": [
    {
     "data": {
      "text/plain": [
       "[',',\n",
       " 'aggregateRating: {',\n",
       " '@type: AggregateRating,',\n",
       " 'ratingValue: 4.2716,',\n",
       " 'reviewCount: 1134,',\n",
       " 'bestRating: 5,',\n",
       " 'worstRating: 1',\n",
       " '},',\n",
       " 'name:27.8 cu. ft. 4 Door French Door Smart Refrigerator with 2 Freezer Drawers and Wi-Fi Enabled in Stainless Steel,',\n",
       " 'url:https://www.homedepot.com/p/LG-Electronics-27-8-cu-ft-4-Door-French-Door-Smart-Refrigerator-with-2-Freezer-Drawers-and-Wi-Fi-Enabled-in-Stainless-Steel-LMXS28626S/302253240,',\n",
       " 'image: https://images.homedepot-static.com/productImages/9d069466-0663-4fdb-bb62-02d4d84015f3/svn/printproof-stainless-steel-lg-electronics-french-door-refrigerators-lmxs28626s-64_400_compressed.jpg,',\n",
       " 'description: LG Electronics 27.8 cu. ft. 4 Door French Door Smart Refrigerator with 2 Freezer Drawers and Wi-Fi Enabled in Stainless Steel,',\n",
       " 'sku: 302253240,',\n",
       " 'brand: LG Electronics',\n",
       " ',',\n",
       " 'offers:{',\n",
       " '@type:Offer,',\n",
       " 'price:1998.0,',\n",
       " 'priceCurrency:USD',\n",
       " '}',\n",
       " '},',\n",
       " '{',\n",
       " '']"
      ]
     },
     "execution_count": 8,
     "metadata": {},
     "output_type": "execute_result"
    }
   ],
   "source": [
    "wer = list1[1].split('\\n')\n",
    "listsdf = []\n",
    "for i in wer:\n",
    "#     i.replace(\" \",\"\")\n",
    "    i.strip()\n",
    "    listsdf.append(i.strip().replace(\"'\",\"\").replace(\"\\\"\",\"\"))\n",
    "#     print(i + \"NEW\")\n",
    "listsdf"
   ]
  },
  {
   "cell_type": "code",
   "execution_count": null,
   "metadata": {},
   "outputs": [],
   "source": []
  },
  {
   "cell_type": "code",
   "execution_count": null,
   "metadata": {},
   "outputs": [],
   "source": []
  }
 ],
 "metadata": {
  "kernelspec": {
   "display_name": "Python 3",
   "language": "python",
   "name": "python3"
  },
  "language_info": {
   "codemirror_mode": {
    "name": "ipython",
    "version": 3
   },
   "file_extension": ".py",
   "mimetype": "text/x-python",
   "name": "python",
   "nbconvert_exporter": "python",
   "pygments_lexer": "ipython3",
   "version": "3.7.4"
  }
 },
 "nbformat": 4,
 "nbformat_minor": 2
}
